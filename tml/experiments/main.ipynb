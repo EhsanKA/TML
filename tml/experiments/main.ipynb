{
 "cells": [
  {
   "cell_type": "code",
   "execution_count": 1,
   "id": "12c23655-9353-45db-bf7a-baf6eeb60719",
   "metadata": {},
   "outputs": [
    {
     "name": "stderr",
     "output_type": "stream",
     "text": [
      "/fast/AG_Haghverdi/Ehsan_Karimiara/miniforge/envs/llm_anaconda/lib/python3.10/site-packages/tqdm/auto.py:21: TqdmWarning: IProgress not found. Please update jupyter and ipywidgets. See https://ipywidgets.readthedocs.io/en/stable/user_install.html\n",
      "  from .autonotebook import tqdm as notebook_tqdm\n"
     ]
    }
   ],
   "source": [
    "import argparse\n",
    "import yaml\n",
    "import pytorch_lightning as pl\n",
    "from tml.training.trainer import tmlTrainer\n",
    "from pytorch_lightning.loggers import TensorBoardLogger\n",
    "\n"
   ]
  },
  {
   "cell_type": "code",
   "execution_count": 2,
   "id": "1543b577-92e8-4b79-a585-a2d73f6dcf4e",
   "metadata": {},
   "outputs": [
    {
     "name": "stdout",
     "output_type": "stream",
     "text": [
      "/fast/AG_Haghverdi/Ehsan_Karimiara/TML/tml/experiments\n"
     ]
    }
   ],
   "source": [
    "!pwd"
   ]
  },
  {
   "cell_type": "code",
   "execution_count": 3,
   "id": "0a5503f3-163c-47d3-b54d-e6b1dfad140d",
   "metadata": {},
   "outputs": [
    {
     "name": "stderr",
     "output_type": "stream",
     "text": [
      "usage: ipykernel_launcher.py [-h] [--config CONFIG]\n",
      "ipykernel_launcher.py: error: unrecognized arguments: -f /fast/home/e/ekarimi/.local/share/jupyter/runtime/kernel-182ad79b-69cf-4622-b86c-2a519154086f.json\n"
     ]
    },
    {
     "ename": "SystemExit",
     "evalue": "2",
     "output_type": "error",
     "traceback": [
      "An exception has occurred, use %tb to see the full traceback.\n",
      "\u001b[0;31mSystemExit\u001b[0m\u001b[0;31m:\u001b[0m 2\n"
     ]
    },
    {
     "name": "stderr",
     "output_type": "stream",
     "text": [
      "/fast/AG_Haghverdi/Ehsan_Karimiara/miniforge/envs/llm_anaconda/lib/python3.10/site-packages/IPython/core/interactiveshell.py:3585: UserWarning: To exit: use 'exit', 'quit', or Ctrl-D.\n",
      "  warn(\"To exit: use 'exit', 'quit', or Ctrl-D.\", stacklevel=1)\n"
     ]
    }
   ],
   "source": [
    "\n",
    "if __name__ == \"__main__\":\n",
    "    # Load config\n",
    "    parser = argparse.ArgumentParser()\n",
    "    parser.add_argument('--config', default=\"config/config.yaml\", help='Path to config file.')\n",
    "    args = parser.parse_args()\n",
    "\n",
    "    with open(args.config, 'r') as f:\n",
    "        config = yaml.safe_load(f)\n",
    "\n",
    "    # Initialize logger\n",
    "    logger = TensorBoardLogger(\"logs\", name=config['sample_name'])\n",
    "\n",
    "    # Initialize model and trainer\n",
    "    model = tmlTrainer(input_dim=42, nb_classes=2)\n",
    "    trainer = pl.Trainer(max_epochs=config['epochs'], logger=logger)\n",
    "\n",
    "    # Train model\n",
    "    trainer.fit(model)"
   ]
  },
  {
   "cell_type": "code",
   "execution_count": null,
   "id": "6abb8ed8-b385-4112-91aa-c76cce956155",
   "metadata": {},
   "outputs": [],
   "source": []
  }
 ],
 "metadata": {
  "kernelspec": {
   "display_name": "Python [conda env:llm_anaconda]",
   "language": "python",
   "name": "conda-env-llm_anaconda-py"
  },
  "language_info": {
   "codemirror_mode": {
    "name": "ipython",
    "version": 3
   },
   "file_extension": ".py",
   "mimetype": "text/x-python",
   "name": "python",
   "nbconvert_exporter": "python",
   "pygments_lexer": "ipython3",
   "version": "3.10.13"
  }
 },
 "nbformat": 4,
 "nbformat_minor": 5
}
