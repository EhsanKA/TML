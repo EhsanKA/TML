{
 "cells": [
  {
   "cell_type": "code",
   "execution_count": 2,
   "id": "12c23655-9353-45db-bf7a-baf6eeb60719",
   "metadata": {},
   "outputs": [
    {
     "ename": "ModuleNotFoundError",
     "evalue": "No module named 'training'",
     "output_type": "error",
     "traceback": [
      "\u001b[0;31m---------------------------------------------------------------------------\u001b[0m",
      "\u001b[0;31mModuleNotFoundError\u001b[0m                       Traceback (most recent call last)",
      "Cell \u001b[0;32mIn[2], line 4\u001b[0m\n\u001b[1;32m      2\u001b[0m \u001b[38;5;28;01mimport\u001b[39;00m \u001b[38;5;21;01myaml\u001b[39;00m\n\u001b[1;32m      3\u001b[0m \u001b[38;5;28;01mimport\u001b[39;00m \u001b[38;5;21;01mpytorch_lightning\u001b[39;00m \u001b[38;5;28;01mas\u001b[39;00m \u001b[38;5;21;01mpl\u001b[39;00m\n\u001b[0;32m----> 4\u001b[0m \u001b[38;5;28;01mfrom\u001b[39;00m \u001b[38;5;21;01mtraining\u001b[39;00m\u001b[38;5;21;01m.\u001b[39;00m\u001b[38;5;21;01mtrainer\u001b[39;00m \u001b[38;5;28;01mimport\u001b[39;00m tmlTrainer\n\u001b[1;32m      5\u001b[0m \u001b[38;5;28;01mfrom\u001b[39;00m \u001b[38;5;21;01mpytorch_lightning\u001b[39;00m\u001b[38;5;21;01m.\u001b[39;00m\u001b[38;5;21;01mloggers\u001b[39;00m \u001b[38;5;28;01mimport\u001b[39;00m TensorBoardLogger\n",
      "\u001b[0;31mModuleNotFoundError\u001b[0m: No module named 'training'"
     ]
    }
   ],
   "source": [
    "import argparse\n",
    "import yaml\n",
    "import pytorch_lightning as pl\n",
    "from training.trainer import tmlTrainer\n",
    "from pytorch_lightning.loggers import TensorBoardLogger\n",
    "\n"
   ]
  },
  {
   "cell_type": "code",
   "execution_count": null,
   "id": "0a5503f3-163c-47d3-b54d-e6b1dfad140d",
   "metadata": {},
   "outputs": [],
   "source": [
    "\n",
    "if __name__ == \"__main__\":\n",
    "    # Load config\n",
    "    parser = argparse.ArgumentParser()\n",
    "    parser.add_argument('--config', default=\"config/config.yaml\", help='Path to config file.')\n",
    "    args = parser.parse_args()\n",
    "\n",
    "    with open(args.config, 'r') as f:\n",
    "        config = yaml.safe_load(f)\n",
    "\n",
    "    # Initialize logger\n",
    "    logger = TensorBoardLogger(\"logs\", name=config['sample_name'])\n",
    "\n",
    "    # Initialize model and trainer\n",
    "    model = MutLXTrainer(input_dim=42, nb_classes=2)\n",
    "    trainer = pl.Trainer(max_epochs=config['epochs'], logger=logger)\n",
    "\n",
    "    # Train model\n",
    "    trainer.fit(model)"
   ]
  }
 ],
 "metadata": {
  "kernelspec": {
   "display_name": "Python [conda env:llm_anaconda]",
   "language": "python",
   "name": "conda-env-llm_anaconda-py"
  },
  "language_info": {
   "codemirror_mode": {
    "name": "ipython",
    "version": 3
   },
   "file_extension": ".py",
   "mimetype": "text/x-python",
   "name": "python",
   "nbconvert_exporter": "python",
   "pygments_lexer": "ipython3",
   "version": "3.10.13"
  }
 },
 "nbformat": 4,
 "nbformat_minor": 5
}
